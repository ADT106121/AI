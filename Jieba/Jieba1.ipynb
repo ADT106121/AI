{
 "cells": [
  {
   "cell_type": "code",
   "execution_count": 9,
   "metadata": {},
   "outputs": [
    {
     "name": "stdout",
     "output_type": "stream",
     "text": [
      "Full Mode: 我/來到/台中/台中教育大學/教育/大學\n",
      "Default Mode: 我/來到/台中教育大學\n",
      "我,來到,台中教育大學\n",
      "因為,需要,感謝,的,太多,人太多,了,，,就,感謝,天罷\n"
     ]
    }
   ],
   "source": [
    "#encoding=utf-8\n",
    "import jieba\n",
    "\n",
    "seg_list = jieba.cut(\"我來到台中教育大學\",cut_all=True)\n",
    "print (\"Full Mode:\",\"/\".join(seg_list))  \n",
    "\n",
    "seg_list = jieba.cut(\"我來到台中教育大學\",cut_all=False)\n",
    "print (\"Default Mode:\",\"/\".join(seg_list))  \n",
    "\n",
    "seg_list = jieba.cut(\"我來到台中教育大學\")\n",
    "print (\",\".join(seg_list))  \n",
    "\n",
    "seg_list = jieba.cut_for_search(\"因為需要感謝的人太多了，就感謝天罷\")\n",
    "print (\",\".join(seg_list))  \n",
    "\n"
   ]
  },
  {
   "cell_type": "code",
   "execution_count": 10,
   "metadata": {},
   "outputs": [
    {
     "name": "stdout",
     "output_type": "stream",
     "text": [
      "預設模式:我|來到|台中教育大學|就讀|學士\n",
      "全文模式:我|來到|台中|台中教育大學|教育|大學|就讀|學士\n",
      "搜尋引擎:我|來到|台中|教育|大學|台中教育大學|就讀|學士\n"
     ]
    }
   ],
   "source": [
    "sentence = \"我來到台中教育大學就讀學士\"\n",
    "\n",
    "breakword = jieba.cut(sentence, cut_all=False)\n",
    "print(\"預設模式:\" + '|' . join(breakword))\n",
    "\n",
    "breakword = jieba.cut(sentence, cut_all=True)\n",
    "print(\"全文模式:\" + '|' . join(breakword))\n",
    "\n",
    "breakword = jieba.cut_for_search(sentence)\n",
    "print(\"搜尋引擎:\" + '|' . join(breakword))"
   ]
  },
  {
   "cell_type": "code",
   "execution_count": null,
   "metadata": {},
   "outputs": [],
   "source": []
  }
 ],
 "metadata": {
  "kernelspec": {
   "display_name": "Python 3",
   "language": "python",
   "name": "python3"
  },
  "language_info": {
   "codemirror_mode": {
    "name": "ipython",
    "version": 3
   },
   "file_extension": ".py",
   "mimetype": "text/x-python",
   "name": "python",
   "nbconvert_exporter": "python",
   "pygments_lexer": "ipython3",
   "version": "3.5.0"
  }
 },
 "nbformat": 4,
 "nbformat_minor": 2
}
