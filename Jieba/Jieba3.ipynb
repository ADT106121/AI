{
 "cells": [
  {
   "cell_type": "code",
   "execution_count": 20,
   "metadata": {},
   "outputs": [
    {
     "name": "stderr",
     "output_type": "stream",
     "text": [
      "Building prefix dict from C:\\Users\\K410\\dict.txt.big ...\n",
      "Loading model from cache C:\\Users\\K410\\AppData\\Local\\Temp\\jieba.u77239c49846c33e24eff150bb1f8a19a.cache\n",
      "Loading model cost 1.179 seconds.\n",
      "Prefix dict has been built succesfully.\n"
     ]
    },
    {
     "name": "stdout",
     "output_type": "stream",
     "text": [
      "預設模式:我|暑假|去|日本|吃了|拉麵|，|燒肉|，|鳥貴族\n",
      "全文模式:我|暑假|去|日本|吃了|拉麵|||燒肉|||鳥貴族\n",
      "搜尋引擎:我|暑假|去|日本|吃了|拉麵|，|燒肉|，|鳥貴族\n"
     ]
    }
   ],
   "source": [
    "#encoding=utf-8\n",
    "import jieba\n",
    "\n",
    "jieba.set_dictionary('dict.txt.big')\n",
    "jieba.add_word('吃了')\n",
    "jieba.add_word('拉麵')\n",
    "jieba.add_word('鳥貴族')\n",
    "jieba.del_word('去日')\n",
    "jieba.del_word('貴族')\n",
    "\n",
    "\n",
    "sentence = \"我暑假去日本吃了拉麵，燒肉，鳥貴族\"\n",
    "\n",
    "breakword = jieba.cut(sentence, cut_all=False)\n",
    "print(\"預設模式:\" + '|' . join(breakword))\n",
    "\n",
    "breakword = jieba.cut(sentence, cut_all=True)\n",
    "print(\"全文模式:\" + '|' . join(breakword))\n",
    "\n",
    "breakword = jieba.cut_for_search(sentence)\n",
    "print(\"搜尋引擎:\" + '|' . join(breakword))"
   ]
  },
  {
   "cell_type": "code",
   "execution_count": null,
   "metadata": {},
   "outputs": [],
   "source": []
  }
 ],
 "metadata": {
  "kernelspec": {
   "display_name": "Python 3",
   "language": "python",
   "name": "python3"
  },
  "language_info": {
   "codemirror_mode": {
    "name": "ipython",
    "version": 3
   },
   "file_extension": ".py",
   "mimetype": "text/x-python",
   "name": "python",
   "nbconvert_exporter": "python",
   "pygments_lexer": "ipython3",
   "version": "3.5.0"
  }
 },
 "nbformat": 4,
 "nbformat_minor": 2
}
