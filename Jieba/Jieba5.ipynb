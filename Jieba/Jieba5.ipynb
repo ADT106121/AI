{
 "cells": [
  {
   "cell_type": "code",
   "execution_count": 6,
   "metadata": {},
   "outputs": [
    {
     "name": "stderr",
     "output_type": "stream",
     "text": [
      "Building prefix dict from C:\\Users\\K410\\dict.txt.big ...\n",
      "Loading model from cache C:\\Users\\K410\\AppData\\Local\\Temp\\jieba.u77239c49846c33e24eff150bb1f8a19a.cache\n",
      "Loading model cost 1.481 seconds.\n",
      "Prefix dict has been built succesfully.\n"
     ]
    },
    {
     "name": "stdout",
     "output_type": "stream",
     "text": [
      "停用詞:\"|;|,|，|。|來到|吃了\n",
      "去除停用:我|暑假|去|日本|拉麵|燒肉|鳥貴族|吉野家|逛|歌舞伎町\n",
      "預設模式:我|暑假|去|日本|吃了|拉麵|，|燒肉|，|鳥貴族|，|吉野家|，|逛|歌舞伎町\n",
      "全文模式:我|暑假|去日|日本|吃了|拉麵|||燒肉|||鳥貴族|貴族|||吉野|吉野家|||逛|歌舞|歌舞伎|歌舞伎町\n",
      "搜尋引擎:我|暑假|去|日本|吃了|拉麵|，|燒肉|，|貴族|鳥貴族|，|吉野|吉野家|，|逛|歌舞|歌舞伎|歌舞伎町\n"
     ]
    }
   ],
   "source": [
    "#encoding=utf-8\n",
    "import jieba\n",
    "\n",
    "jieba.set_dictionary('dict.txt.big')\n",
    "jieba.load_userdict('dict.txt')\n",
    "\n",
    "with open('stopword.txt', 'r', encoding='utf-8-sig') as file:\n",
    "    stops = file.read().split('\\n')\n",
    "print(\"停用詞:\"+'|' . join(stops))\n",
    "\n",
    "\n",
    "\n",
    "#jieba.add_word('吃了')\n",
    "#jieba.add_word('拉麵')\n",
    "#jieba.add_word('鳥貴族')\n",
    "#jieba.del_word('去日')\n",
    "#jieba.del_word('貴族')\n",
    "\n",
    "\n",
    "sentence = \"我暑假去日本吃了拉麵，燒肉，鳥貴族，吉野家，逛歌舞伎町\"\n",
    "\n",
    "breakword = jieba.cut(sentence, cut_all=False)\n",
    "final_words = []\n",
    "for word in breakword:\n",
    "    if word not in stops:\n",
    "        final_words.append(word)\n",
    "\n",
    "\n",
    "print(\"去除停用:\" + '|' . join(final_words))\n",
    "\n",
    "breakword = jieba.cut(sentence, cut_all=False)\n",
    "print(\"預設模式:\" + '|' . join(breakword))\n",
    "\n",
    "breakword = jieba.cut(sentence, cut_all=True)\n",
    "print(\"全文模式:\" + '|' . join(breakword))\n",
    "\n",
    "breakword = jieba.cut_for_search(sentence)\n",
    "print(\"搜尋引擎:\" + '|' . join(breakword))"
   ]
  },
  {
   "cell_type": "code",
   "execution_count": null,
   "metadata": {},
   "outputs": [],
   "source": []
  }
 ],
 "metadata": {
  "kernelspec": {
   "display_name": "Python 3",
   "language": "python",
   "name": "python3"
  },
  "language_info": {
   "codemirror_mode": {
    "name": "ipython",
    "version": 3
   },
   "file_extension": ".py",
   "mimetype": "text/x-python",
   "name": "python",
   "nbconvert_exporter": "python",
   "pygments_lexer": "ipython3",
   "version": "3.5.0"
  }
 },
 "nbformat": 4,
 "nbformat_minor": 2
}
