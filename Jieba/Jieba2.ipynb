{
 "cells": [
  {
   "cell_type": "code",
   "execution_count": 1,
   "metadata": {},
   "outputs": [
    {
     "name": "stderr",
     "output_type": "stream",
     "text": [
      "Building prefix dict from C:\\Users\\K410\\dict.txt.big ...\n",
      "Loading model from cache C:\\Users\\K410\\AppData\\Local\\Temp\\jieba.u77239c49846c33e24eff150bb1f8a19a.cache\n",
      "Loading model cost 1.137 seconds.\n",
      "Prefix dict has been built succesfully.\n"
     ]
    },
    {
     "name": "stdout",
     "output_type": "stream",
     "text": [
      "Full Mode: 我/來到/台中/台中教育大學/教育/大學\n",
      "Default Mode: 我/來到/台中教育大學\n",
      "我,來到,台中教育大學\n",
      "因為,需要,感謝,的,太多,人太多,了,，,就,感謝,天罷\n"
     ]
    }
   ],
   "source": [
    "#encoding=utf-8\n",
    "import jieba\n",
    "\n",
    "jieba.set_dictionary('dict.txt.big')\n",
    "\n",
    "seg_list = jieba.cut(\"我來到台中教育大學\",cut_all=True)\n",
    "print (\"Full Mode:\",\"/\".join(seg_list))  \n",
    "\n",
    "seg_list = jieba.cut(\"我來到台中教育大學\",cut_all=False)\n",
    "print (\"Default Mode:\",\"/\".join(seg_list))  \n",
    "\n",
    "seg_list = jieba.cut(\"我來到台中教育大學\")\n",
    "print (\",\".join(seg_list))  \n",
    "\n",
    "seg_list = jieba.cut_for_search(\"因為需要感謝的人太多了，就感謝天罷\")\n",
    "print (\",\".join(seg_list))  \n",
    "\n"
   ]
  },
  {
   "cell_type": "code",
   "execution_count": null,
   "metadata": {},
   "outputs": [],
   "source": []
  }
 ],
 "metadata": {
  "kernelspec": {
   "display_name": "Python 3",
   "language": "python",
   "name": "python3"
  },
  "language_info": {
   "codemirror_mode": {
    "name": "ipython",
    "version": 3
   },
   "file_extension": ".py",
   "mimetype": "text/x-python",
   "name": "python",
   "nbconvert_exporter": "python",
   "pygments_lexer": "ipython3",
   "version": "3.5.0"
  }
 },
 "nbformat": 4,
 "nbformat_minor": 2
}
