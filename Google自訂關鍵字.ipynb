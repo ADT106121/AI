{
 "cells": [
  {
   "cell_type": "code",
   "execution_count": 4,
   "metadata": {},
   "outputs": [
    {
     "name": "stdout",
     "output_type": "stream",
     "text": [
      "標題:\n",
      "網址:/url?q=https://www.books.com.tw/products/M010081332&sa=U&ved=2ahUKEwik7OTmqaDlAhXwmq0KHYNXArMQwW4wAHoECAwQAg&usg=AOvVaw0487PH5toLTl9qhzyXdJVq\n",
      "標題:哥布林殺手- 维基百科，自由的百科全书https://zh.wikipedia.org › zh-tw › 哥布林殺手\n",
      "網址:/url?q=https://zh.wikipedia.org/zh-tw/%25E5%2593%25A5%25E5%25B8%2583%25E6%259E%2597%25E6%25AE%25BA%25E6%2589%258B&sa=U&ved=2ahUKEwik7OTmqaDlAhXwmq0KHYNXArMQFjALegQIBxAB&usg=AOvVaw2SPLGmOV0IkWanIzINDuRp\n",
      "標題:哥布林- 维基百科，自由的百科全书https://zh.wikipedia.org › zh-tw › 哥布林\n",
      "網址:/url?q=https://zh.wikipedia.org/zh-tw/%25E5%2593%25A5%25E5%25B8%2583%25E6%259E%2597&sa=U&ved=2ahUKEwik7OTmqaDlAhXwmq0KHYNXArMQFjAMegQIBhAB&usg=AOvVaw1KaYvRYp7IRhLbnFlSzCwZ\n",
      "標題:哥布林殺手漫畫_黑瀨浩介×蝸牛くも- 看漫畫繁體版 - 在線看漫畫https://tw.manhuagui.com › comic\n",
      "網址:/url?q=https://tw.manhuagui.com/comic/20515/&sa=U&ved=2ahUKEwik7OTmqaDlAhXwmq0KHYNXArMQFjANegQIBBAB&usg=AOvVaw3Zen2_6nuWGdWXrQ-mQA0B\n",
      "標題:哥布林殺手[1] - 巴哈姆特動畫瘋https://ani.gamer.com.tw › animeVideo\n",
      "網址:/url?q=https://ani.gamer.com.tw/animeVideo.php%3Fsn%3D10852&sa=U&ved=2ahUKEwik7OTmqaDlAhXwmq0KHYNXArMQFjAOegQICBAB&usg=AOvVaw26Zby-FVuItbKAFIiPJ8HP\n",
      "標題:哥布林殺手第1集-動漫-高清正版影音線上看-愛奇藝台灣站tw.iqiyi.com › 動漫 › 哥布林殺手\n",
      "網址:/url?q=http://tw.iqiyi.com/v_19rqt01de4.html&sa=U&ved=2ahUKEwik7OTmqaDlAhXwmq0KHYNXArMQtwIwD3oECAoQAQ&usg=AOvVaw22XPewvTnWJn_663xxKCBK\n",
      "標題:\n",
      "網址:/url?q=http://tw.iqiyi.com/v_19rqt01de4.html&sa=U&ved=2ahUKEwik7OTmqaDlAhXwmq0KHYNXArMQuAIwD3oECAoQAg&usg=AOvVaw0rrvroL6gzT0Y0rMPvwSe6\n",
      "標題:哥布林殺手第12集-動漫-高清正版影音線上看-愛奇藝台灣站tw.iqiyi.com › 動漫 › 哥布林殺手\n",
      "網址:/url?q=http://tw.iqiyi.com/v_19rqp8t09o.html&sa=U&ved=2ahUKEwik7OTmqaDlAhXwmq0KHYNXArMQtwIwFnoECAUQAQ&usg=AOvVaw3GrOTUo5-E3Y4mvjSljK04\n",
      "標題:\n",
      "網址:/url?q=http://tw.iqiyi.com/v_19rqp8t09o.html&sa=U&ved=2ahUKEwik7OTmqaDlAhXwmq0KHYNXArMQuAIwFnoECAUQAg&usg=AOvVaw0bpoSJvs_OChmO9E9yO0iW\n",
      "標題:哥布林殺手| 楓林網8maple.ru › ...\n",
      "網址:/url?q=http://8maple.ru/289899/&sa=U&ved=2ahUKEwik7OTmqaDlAhXwmq0KHYNXArMQFjAXegQIARAB&usg=AOvVaw1Y05XQtXFjVSEfXZCxY31y\n",
      "標題:【馬姿】冷血的哥布林殺手竟然有身材超棒的青梅竹馬？！還天天共度 ...https://www.youtube.com › watch\n",
      "網址:/url?q=https://www.youtube.com/watch%3Fv%3DJ7Bs58R3lTA&sa=U&ved=2ahUKEwik7OTmqaDlAhXwmq0KHYNXArMQtwIwGHoECAIQAQ&usg=AOvVaw1g4RKsIHbRratTRZDl4RMX\n",
      "標題:\n",
      "網址:/url?q=https://www.youtube.com/watch%3Fv%3DJ7Bs58R3lTA&sa=U&ved=2ahUKEwik7OTmqaDlAhXwmq0KHYNXArMQuAIwGHoECAIQAg&usg=AOvVaw1cERmbAVpZFzaMImxpDCpP\n",
      "標題:哥布林 - YouTubehttps://www.youtube.com › watch\n",
      "網址:/url?q=https://www.youtube.com/watch%3Fv%3DzAtbr5JBwDY&sa=U&ved=2ahUKEwik7OTmqaDlAhXwmq0KHYNXArMQtwIwGXoECAMQAQ&usg=AOvVaw1d_2FG_uhcaOkVb4ECDnTK\n",
      "標題:\n",
      "網址:/url?q=https://www.youtube.com/watch%3Fv%3DzAtbr5JBwDY&sa=U&ved=2ahUKEwik7OTmqaDlAhXwmq0KHYNXArMQuAIwGXoECAMQAg&usg=AOvVaw1DxyVCpBOFCV9dS5UEkaCX\n"
     ]
    }
   ],
   "source": [
    "import requests\n",
    "from bs4 import BeautifulSoup\n",
    "\n",
    "google_url = 'https://www.google.com.tw/search'\n",
    "my_params = {'q': '哥布林'}\n",
    "r = requests.get(google_url,params = my_params)\n",
    "if r.status_code == requests.codes.ok:\n",
    "    soup = BeautifulSoup(r.text, 'html.parser')\n",
    "    items = soup.select('div.kCrYT > a[href^=\"/url\"]')\n",
    "    for i in items:\n",
    "        print(\"標題:\" + i.text)\n",
    "        print(\"網址:\" + i.get('href'))"
   ]
  },
  {
   "cell_type": "code",
   "execution_count": null,
   "metadata": {},
   "outputs": [],
   "source": []
  }
 ],
 "metadata": {
  "kernelspec": {
   "display_name": "Python 3",
   "language": "python",
   "name": "python3"
  },
  "language_info": {
   "codemirror_mode": {
    "name": "ipython",
    "version": 3
   },
   "file_extension": ".py",
   "mimetype": "text/x-python",
   "name": "python",
   "nbconvert_exporter": "python",
   "pygments_lexer": "ipython3",
   "version": "3.5.0"
  }
 },
 "nbformat": 4,
 "nbformat_minor": 2
}
