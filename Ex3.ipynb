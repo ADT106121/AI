{
 "cells": [
  {
   "cell_type": "code",
   "execution_count": 12,
   "metadata": {},
   "outputs": [
    {
     "name": "stdout",
     "output_type": "stream",
     "text": [
      "請輸入你的體重in公斤:60\n",
      "請輸入你的身高in公尺1.7\n"
     ]
    }
   ],
   "source": [
    "BMI = 0\n",
    "n = int (input(\"請輸入你的體重in公斤:\"))\n",
    "i = float (input(\"請輸入你的身高in公尺\"))\n",
    "i = i*i"
   ]
  },
  {
   "cell_type": "code",
   "execution_count": 13,
   "metadata": {},
   "outputs": [
    {
     "name": "stdout",
     "output_type": "stream",
     "text": [
      "你的BMI是20.761246\n"
     ]
    }
   ],
   "source": [
    "BMI = n / i\n",
    "print(\"你的BMI是%f\"%(BMI))\n"
   ]
  },
  {
   "cell_type": "code",
   "execution_count": 14,
   "metadata": {},
   "outputs": [
    {
     "name": "stdout",
     "output_type": "stream",
     "text": [
      "你的體重很可以哦！！！\n"
     ]
    }
   ],
   "source": [
    "if BMI < 18.5:\n",
    "    print(\"體重太輕，正所謂輕如鴻毛！！！\")\n",
    "if BMI >= 18.5 and BMI < 24:\n",
    "    print(\"你的體重很可以哦！！！\")\n",
    "if BMI >= 24:\n",
    "    print(\"你的體重太重啦！！！都要產生黑洞了\")"
   ]
  }
 ],
 "metadata": {
  "kernelspec": {
   "display_name": "Python 3",
   "language": "python",
   "name": "python3"
  },
  "language_info": {
   "codemirror_mode": {
    "name": "ipython",
    "version": 3
   },
   "file_extension": ".py",
   "mimetype": "text/x-python",
   "name": "python",
   "nbconvert_exporter": "python",
   "pygments_lexer": "ipython3",
   "version": "3.5.0"
  }
 },
 "nbformat": 4,
 "nbformat_minor": 2
}
